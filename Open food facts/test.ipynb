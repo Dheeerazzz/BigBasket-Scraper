{
 "cells": [
  {
   "cell_type": "code",
   "execution_count": 1,
   "metadata": {},
   "outputs": [],
   "source": [
    "from selenium import webdriver\n",
    "from selenium.webdriver.common.by import By\n",
    "import os\n",
    "import time\n",
    "import pandas as pd\n",
    "from selenium.webdriver.support.ui import WebDriverWait\n",
    "from selenium.webdriver.support import expected_conditions as EC\n",
    "from selenium.webdriver.common.by import By\n",
    "from selenium.common.exceptions import NoSuchElementException, TimeoutException\n",
    "from selenium.webdriver.common.action_chains import ActionChains"
   ]
  },
  {
   "cell_type": "code",
   "execution_count": 6,
   "metadata": {},
   "outputs": [],
   "source": [
    "os.environ['PATH']+= r'C:/SeleniumDrivers'"
   ]
  },
  {
   "cell_type": "code",
   "execution_count": 21,
   "metadata": {},
   "outputs": [],
   "source": [
    "driver=webdriver.Chrome()\n",
    "driver.get('https://world.openfoodfacts.org/country/india')"
   ]
  },
  {
   "cell_type": "code",
   "execution_count": 22,
   "metadata": {},
   "outputs": [],
   "source": [
    "elements=driver.find_elements(By.CSS_SELECTOR,'div.list_product_name')"
   ]
  },
  {
   "cell_type": "code",
   "execution_count": 23,
   "metadata": {},
   "outputs": [
    {
     "name": "stdout",
     "output_type": "stream",
     "text": [
      "Red bull energy drink - 250 ml\n",
      "Sprite - coca cola - 750 ml\n",
      "Heinz Tomato ketchup - 400ml\n",
      "Thumbs Up - Coca Cola Company - 750ml\n",
      "Sting - 250 ml\n",
      "kinley mineral water - 1 l\n",
      "Sprite - 2.25l\n",
      "Mountain Dew - Pepsico\n",
      "maaza - Hisdustan Unilever Limited - 600 ml\n",
      "Kinley Mineral Water - 1 L\n",
      "Limca - Coca-Cola\n",
      "Thums Up (Coca-Cola)\n",
      "HERSHEY’S CHOCOLATE SYRUP - 623 g\n",
      "Cadbury gems - 7.9g\n",
      "Taka tak - Haldiram's\n",
      "Thums up - 250 ml\n",
      "Chyawanprash - Dabur - 550 g\n",
      "Good Day Butter Cookies - Britannia - 68g\n",
      "Sugar cookie - CMB - 100 g\n",
      "Frooti - 2 l\n",
      "Diet coke - The Coca-Cola Company - 500 ml\n",
      "Mountain dew - mountaindew - 2.25\n",
      "7up - PepsiCo - 750 ml\n",
      "Coca Cola - 750 ml\n",
      "Rooh Afza - hamdard - 750 ml\n",
      "Marie Gold - Britannia - 73 g\n",
      "Pepsi - 1,5 L\n",
      "Pepsi 2.25 l - Pepsico\n",
      "Parle - 22g\n",
      "Bourn vita - 500g\n",
      "Eno, fruit salt lemon flavour - GSK - 5g\n",
      "Maaza Original - - 1.2 l\n",
      "coco cola company - sprite - 250 ml\n",
      "Barritas de platano y chocolate - Alteza\n",
      "Oreo\n",
      "Frooti mango drink - parle Agro - 150ml\n",
      "thumsup - recycle\n",
      "ORSL Plus Electrolyte Drink Orange - Johnson & Johnson - 200 ml\n",
      "Choco Fillo - Gone Mad - 24 g\n",
      "Lays - PepsiCo - 55 g\n",
      "Coconut oil - Parachute - 200ml(182g)\n",
      "Honey - Dabur\n",
      "Cornflakes Almond Honey - Kellogg's - 1 kg\n",
      "Amul Pasteurized Butter - 100.0 g\n",
      "Crousti Bistro Express - Findus - 130g\n",
      "Glucon D - 125gm\n",
      "Classic Malt - Horlicks - 500 g\n",
      "San remo vegeroni shapes 375g - Rakija Djurovic Kruska 2020 - 1l\n",
      "Fanta\n",
      "Bfizz - Fizz - 160ml\n",
      "Premium kachi gani pre mustard oil - Fortune - 500ml\n",
      "Little Hearts Classic - Britannia - 75g\n",
      "Tedhe Medhe - Bingo -\n",
      "Boost - Unilever - 17g\n",
      "Real Mixed fruit juice (1)\n",
      "M8irinda orange - Pepsico - 2.25 L\n",
      "Frooti - Parle - 300ml\n",
      "Maaza - 150 mL\n",
      "Britannia - 78g\n",
      "Maggi\n",
      "Kurkure Masala Munch - 95 g\n",
      "Fanta - The Coca-cola company - 750 ml\n",
      "Pringles - Kelloggs - 107g\n",
      "Mirinda - 750ml\n",
      "Corn flakes - Kelloggs - 475 g\n",
      "Cup-a-Soup Sweet Corn Veg - Knorr - 12 g\n",
      "Kissan mix fruit jam 700g\n",
      "Amul\n",
      "Nescafe Classic Pure Coffee - Nestle - 25 g\n",
      "Hajmola\n",
      "Torti surimi - Menu Fraîcheur - 500g\n",
      "Munch - nestle - 10.4g\n",
      "Chocos Fills - kellogg's - 250 g\n",
      "dark fantasy - Sunfeast - 20\n",
      "NESCAFE - 50g\n",
      "Frooti Mango Drink - Parle Agro - 150ml\n",
      "Goody - 340g\n",
      "Fresh tomato ketchup - Kissan\n",
      "Coca Cola\n",
      "best ever sunlight - 1\n",
      "Chips barbecue - Lay's - 130 g\n",
      "Chicken noodles - Maggi - 71 G\n",
      "Passendale classic - 190g (5*38g)\n",
      "American Style Cream & Onion - Lay's - 24g\n",
      "Peanut butter creamy - Dr.Oetker FunFood - 925 g\n",
      "Fresh Tomato Ketchup - Kissan - 950 g\n",
      "MARCO CRUNCHY PEANUT BUTTER - 410 g\n",
      "Maggi 2-minutes Noodles - 70 g\n",
      "masala - Lay's - 30g\n",
      "Everest Shahi paneer masala - 0.71g\n",
      "Amul Taaza - 1L\n",
      "amul taaza toned milk - 500 ml\n",
      "Aashirvaad - ITC - 5Kg\n",
      "Nutella & Go! - 48 g e\n",
      "Ritter Sport Noir Noisettes Entières - 100 g\n",
      "Noix de cajou nature - Boni - 250 g\n",
      "Tamari soya sauce - Lima - 1 l\n",
      "Maggi Masala Noodles - Nestle - 140g\n",
      "kurkure - 25g\n",
      "Cadbury Dairy Milk Chocolate - 24g\n"
     ]
    }
   ],
   "source": [
    "for i in elements:\n",
    "    print(i.text)"
   ]
  },
  {
   "cell_type": "code",
   "execution_count": 24,
   "metadata": {},
   "outputs": [],
   "source": [
    "def individual():\n",
    "    prod_name = driver.find_element(By.CSS_SELECTOR, 'h2.title-1').text.strip()\n",
    "    nutrition_data={\"Product Name\": [prod_name]}\n",
    "    rows=driver.find_elements(By.XPATH, \"//tbody/tr\")\n",
    "    for row in rows:\n",
    "        nutrient=row.find_element(By.XPATH,\"./td[1]\").text.strip()\n",
    "        as_sold_100g=row.find_element(By.XPATH,\"./td[2]\").text.strip()\n",
    "        nutrition_data[nutrient]=[as_sold_100g]\n",
    "    df=pd.DataFrame(nutrition_data)"
   ]
  },
  {
   "cell_type": "code",
   "execution_count": 25,
   "metadata": {},
   "outputs": [
    {
     "ename": "StaleElementReferenceException",
     "evalue": "Message: stale element reference: stale element not found\n  (Session info: chrome=120.0.6099.217); For documentation on this error, please visit: https://www.selenium.dev/documentation/webdriver/troubleshooting/errors#stale-element-reference-exception\nStacktrace:\n\tGetHandleVerifier [0x00007FF787D92142+3514994]\n\t(No symbol) [0x00007FF7879B0CE2]\n\t(No symbol) [0x00007FF7878576AA]\n\t(No symbol) [0x00007FF7878679BF]\n\t(No symbol) [0x00007FF78785DB89]\n\t(No symbol) [0x00007FF78785DC93]\n\t(No symbol) [0x00007FF78785BF22]\n\t(No symbol) [0x00007FF78785F6F7]\n\t(No symbol) [0x00007FF7878E316B]\n\t(No symbol) [0x00007FF7878C5FEA]\n\t(No symbol) [0x00007FF7878E28F6]\n\t(No symbol) [0x00007FF7878C5D93]\n\t(No symbol) [0x00007FF787894BDC]\n\t(No symbol) [0x00007FF787895C64]\n\tGetHandleVerifier [0x00007FF787DBE16B+3695259]\n\tGetHandleVerifier [0x00007FF787E16737+4057191]\n\tGetHandleVerifier [0x00007FF787E0E4E3+4023827]\n\tGetHandleVerifier [0x00007FF787AE04F9+689705]\n\t(No symbol) [0x00007FF7879BC048]\n\t(No symbol) [0x00007FF7879B8044]\n\t(No symbol) [0x00007FF7879B81C9]\n\t(No symbol) [0x00007FF7879A88C4]\n\tBaseThreadInitThunk [0x00007FFB1EB1257D+29]\n\tRtlUserThreadStart [0x00007FFB1EE0AA58+40]\n",
     "output_type": "error",
     "traceback": [
      "\u001b[1;31m---------------------------------------------------------------------------\u001b[0m",
      "\u001b[1;31mStaleElementReferenceException\u001b[0m            Traceback (most recent call last)",
      "Cell \u001b[1;32mIn[25], line 13\u001b[0m\n\u001b[0;32m     10\u001b[0m driver\u001b[38;5;241m.\u001b[39mswitch_to\u001b[38;5;241m.\u001b[39mwindow(driver\u001b[38;5;241m.\u001b[39mwindow_handles[\u001b[38;5;241m-\u001b[39m\u001b[38;5;241m1\u001b[39m])\n\u001b[0;32m     12\u001b[0m \u001b[38;5;66;03m# Navigate to the product page\u001b[39;00m\n\u001b[1;32m---> 13\u001b[0m driver\u001b[38;5;241m.\u001b[39mget(\u001b[43mi\u001b[49m\u001b[38;5;241;43m.\u001b[39;49m\u001b[43mget_attribute\u001b[49m\u001b[43m(\u001b[49m\u001b[38;5;124;43m\"\u001b[39;49m\u001b[38;5;124;43mhref\u001b[39;49m\u001b[38;5;124;43m\"\u001b[39;49m\u001b[43m)\u001b[49m)\n\u001b[0;32m     15\u001b[0m \u001b[38;5;66;03m# Wait until the page is loaded (you might need to adjust the condition)\u001b[39;00m\n\u001b[0;32m     16\u001b[0m WebDriverWait(driver, \u001b[38;5;241m10\u001b[39m)\u001b[38;5;241m.\u001b[39muntil(EC\u001b[38;5;241m.\u001b[39mpresence_of_element_located((By\u001b[38;5;241m.\u001b[39mXPATH, \u001b[38;5;124m\"\u001b[39m\u001b[38;5;124m//tbody/tr\u001b[39m\u001b[38;5;124m\"\u001b[39m)))\n",
      "File \u001b[1;32mc:\\Users\\sriyo\\AppData\\Local\\Programs\\Python\\Python310\\lib\\site-packages\\selenium\\webdriver\\remote\\webelement.py:178\u001b[0m, in \u001b[0;36mWebElement.get_attribute\u001b[1;34m(self, name)\u001b[0m\n\u001b[0;32m    176\u001b[0m \u001b[38;5;28;01mif\u001b[39;00m getAttribute_js \u001b[38;5;129;01mis\u001b[39;00m \u001b[38;5;28;01mNone\u001b[39;00m:\n\u001b[0;32m    177\u001b[0m     _load_js()\n\u001b[1;32m--> 178\u001b[0m attribute_value \u001b[38;5;241m=\u001b[39m \u001b[38;5;28;43mself\u001b[39;49m\u001b[38;5;241;43m.\u001b[39;49m\u001b[43mparent\u001b[49m\u001b[38;5;241;43m.\u001b[39;49m\u001b[43mexecute_script\u001b[49m\u001b[43m(\u001b[49m\n\u001b[0;32m    179\u001b[0m \u001b[43m    \u001b[49m\u001b[38;5;124;43mf\u001b[39;49m\u001b[38;5;124;43m\"\u001b[39;49m\u001b[38;5;124;43m/* getAttribute */return (\u001b[39;49m\u001b[38;5;132;43;01m{\u001b[39;49;00m\u001b[43mgetAttribute_js\u001b[49m\u001b[38;5;132;43;01m}\u001b[39;49;00m\u001b[38;5;124;43m).apply(null, arguments);\u001b[39;49m\u001b[38;5;124;43m\"\u001b[39;49m\u001b[43m,\u001b[49m\u001b[43m \u001b[49m\u001b[38;5;28;43mself\u001b[39;49m\u001b[43m,\u001b[49m\u001b[43m \u001b[49m\u001b[43mname\u001b[49m\n\u001b[0;32m    180\u001b[0m \u001b[43m\u001b[49m\u001b[43m)\u001b[49m\n\u001b[0;32m    181\u001b[0m \u001b[38;5;28;01mreturn\u001b[39;00m attribute_value\n",
      "File \u001b[1;32mc:\\Users\\sriyo\\AppData\\Local\\Programs\\Python\\Python310\\lib\\site-packages\\selenium\\webdriver\\remote\\webdriver.py:405\u001b[0m, in \u001b[0;36mWebDriver.execute_script\u001b[1;34m(self, script, *args)\u001b[0m\n\u001b[0;32m    402\u001b[0m converted_args \u001b[38;5;241m=\u001b[39m \u001b[38;5;28mlist\u001b[39m(args)\n\u001b[0;32m    403\u001b[0m command \u001b[38;5;241m=\u001b[39m Command\u001b[38;5;241m.\u001b[39mW3C_EXECUTE_SCRIPT\n\u001b[1;32m--> 405\u001b[0m \u001b[38;5;28;01mreturn\u001b[39;00m \u001b[38;5;28;43mself\u001b[39;49m\u001b[38;5;241;43m.\u001b[39;49m\u001b[43mexecute\u001b[49m\u001b[43m(\u001b[49m\u001b[43mcommand\u001b[49m\u001b[43m,\u001b[49m\u001b[43m \u001b[49m\u001b[43m{\u001b[49m\u001b[38;5;124;43m\"\u001b[39;49m\u001b[38;5;124;43mscript\u001b[39;49m\u001b[38;5;124;43m\"\u001b[39;49m\u001b[43m:\u001b[49m\u001b[43m \u001b[49m\u001b[43mscript\u001b[49m\u001b[43m,\u001b[49m\u001b[43m \u001b[49m\u001b[38;5;124;43m\"\u001b[39;49m\u001b[38;5;124;43margs\u001b[39;49m\u001b[38;5;124;43m\"\u001b[39;49m\u001b[43m:\u001b[49m\u001b[43m \u001b[49m\u001b[43mconverted_args\u001b[49m\u001b[43m}\u001b[49m\u001b[43m)\u001b[49m[\u001b[38;5;124m\"\u001b[39m\u001b[38;5;124mvalue\u001b[39m\u001b[38;5;124m\"\u001b[39m]\n",
      "File \u001b[1;32mc:\\Users\\sriyo\\AppData\\Local\\Programs\\Python\\Python310\\lib\\site-packages\\selenium\\webdriver\\remote\\webdriver.py:345\u001b[0m, in \u001b[0;36mWebDriver.execute\u001b[1;34m(self, driver_command, params)\u001b[0m\n\u001b[0;32m    343\u001b[0m response \u001b[38;5;241m=\u001b[39m \u001b[38;5;28mself\u001b[39m\u001b[38;5;241m.\u001b[39mcommand_executor\u001b[38;5;241m.\u001b[39mexecute(driver_command, params)\n\u001b[0;32m    344\u001b[0m \u001b[38;5;28;01mif\u001b[39;00m response:\n\u001b[1;32m--> 345\u001b[0m     \u001b[38;5;28;43mself\u001b[39;49m\u001b[38;5;241;43m.\u001b[39;49m\u001b[43merror_handler\u001b[49m\u001b[38;5;241;43m.\u001b[39;49m\u001b[43mcheck_response\u001b[49m\u001b[43m(\u001b[49m\u001b[43mresponse\u001b[49m\u001b[43m)\u001b[49m\n\u001b[0;32m    346\u001b[0m     response[\u001b[38;5;124m\"\u001b[39m\u001b[38;5;124mvalue\u001b[39m\u001b[38;5;124m\"\u001b[39m] \u001b[38;5;241m=\u001b[39m \u001b[38;5;28mself\u001b[39m\u001b[38;5;241m.\u001b[39m_unwrap_value(response\u001b[38;5;241m.\u001b[39mget(\u001b[38;5;124m\"\u001b[39m\u001b[38;5;124mvalue\u001b[39m\u001b[38;5;124m\"\u001b[39m, \u001b[38;5;28;01mNone\u001b[39;00m))\n\u001b[0;32m    347\u001b[0m     \u001b[38;5;28;01mreturn\u001b[39;00m response\n",
      "File \u001b[1;32mc:\\Users\\sriyo\\AppData\\Local\\Programs\\Python\\Python310\\lib\\site-packages\\selenium\\webdriver\\remote\\errorhandler.py:229\u001b[0m, in \u001b[0;36mErrorHandler.check_response\u001b[1;34m(self, response)\u001b[0m\n\u001b[0;32m    227\u001b[0m         alert_text \u001b[38;5;241m=\u001b[39m value[\u001b[38;5;124m\"\u001b[39m\u001b[38;5;124malert\u001b[39m\u001b[38;5;124m\"\u001b[39m]\u001b[38;5;241m.\u001b[39mget(\u001b[38;5;124m\"\u001b[39m\u001b[38;5;124mtext\u001b[39m\u001b[38;5;124m\"\u001b[39m)\n\u001b[0;32m    228\u001b[0m     \u001b[38;5;28;01mraise\u001b[39;00m exception_class(message, screen, stacktrace, alert_text)  \u001b[38;5;66;03m# type: ignore[call-arg]  # mypy is not smart enough here\u001b[39;00m\n\u001b[1;32m--> 229\u001b[0m \u001b[38;5;28;01mraise\u001b[39;00m exception_class(message, screen, stacktrace)\n",
      "\u001b[1;31mStaleElementReferenceException\u001b[0m: Message: stale element reference: stale element not found\n  (Session info: chrome=120.0.6099.217); For documentation on this error, please visit: https://www.selenium.dev/documentation/webdriver/troubleshooting/errors#stale-element-reference-exception\nStacktrace:\n\tGetHandleVerifier [0x00007FF787D92142+3514994]\n\t(No symbol) [0x00007FF7879B0CE2]\n\t(No symbol) [0x00007FF7878576AA]\n\t(No symbol) [0x00007FF7878679BF]\n\t(No symbol) [0x00007FF78785DB89]\n\t(No symbol) [0x00007FF78785DC93]\n\t(No symbol) [0x00007FF78785BF22]\n\t(No symbol) [0x00007FF78785F6F7]\n\t(No symbol) [0x00007FF7878E316B]\n\t(No symbol) [0x00007FF7878C5FEA]\n\t(No symbol) [0x00007FF7878E28F6]\n\t(No symbol) [0x00007FF7878C5D93]\n\t(No symbol) [0x00007FF787894BDC]\n\t(No symbol) [0x00007FF787895C64]\n\tGetHandleVerifier [0x00007FF787DBE16B+3695259]\n\tGetHandleVerifier [0x00007FF787E16737+4057191]\n\tGetHandleVerifier [0x00007FF787E0E4E3+4023827]\n\tGetHandleVerifier [0x00007FF787AE04F9+689705]\n\t(No symbol) [0x00007FF7879BC048]\n\t(No symbol) [0x00007FF7879B8044]\n\t(No symbol) [0x00007FF7879B81C9]\n\t(No symbol) [0x00007FF7879A88C4]\n\tBaseThreadInitThunk [0x00007FFB1EB1257D+29]\n\tRtlUserThreadStart [0x00007FFB1EE0AA58+40]\n"
     ]
    }
   ],
   "source": [
    "\n",
    "# Iterating through product elements\n",
    "for i in elements:\n",
    "    # Get the current window handle\n",
    "    main_window = driver.current_window_handle\n",
    "    \n",
    "    # Open the link in a new tab using JavaScript\n",
    "    driver.execute_script(\"window.open();\")\n",
    "    \n",
    "    # Switch to the newly opened tab\n",
    "    driver.switch_to.window(driver.window_handles[-1])\n",
    "    \n",
    "    # Navigate to the product page\n",
    "    driver.get(i.get_attribute(\"href\"))\n",
    "    \n",
    "    # Wait until the page is loaded (you might need to adjust the condition)\n",
    "    WebDriverWait(driver, 10).until(EC.presence_of_element_located((By.XPATH, \"//tbody/tr\")))\n",
    "    \n",
    "    # Call the individual function and store the DataFrame\n",
    "    product_df = individual(driver)\n",
    "    \n",
    "    # Do whatever you want with the product_df, for example, print it\n",
    "    print(product_df)\n",
    "    \n",
    "    # Close the current tab\n",
    "    driver.close()\n",
    "    \n",
    "    # Switch back to the main window\n",
    "    driver.switch_to.window(main_window)\n"
   ]
  },
  {
   "cell_type": "code",
   "execution_count": null,
   "metadata": {},
   "outputs": [],
   "source": []
  }
 ],
 "metadata": {
  "kernelspec": {
   "display_name": "Python 3",
   "language": "python",
   "name": "python3"
  },
  "language_info": {
   "codemirror_mode": {
    "name": "ipython",
    "version": 3
   },
   "file_extension": ".py",
   "mimetype": "text/x-python",
   "name": "python",
   "nbconvert_exporter": "python",
   "pygments_lexer": "ipython3",
   "version": "3.10.10"
  }
 },
 "nbformat": 4,
 "nbformat_minor": 2
}
