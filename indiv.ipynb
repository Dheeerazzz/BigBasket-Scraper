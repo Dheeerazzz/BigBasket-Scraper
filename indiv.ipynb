{
 "cells": [
  {
   "cell_type": "code",
   "execution_count": null,
   "metadata": {},
   "outputs": [],
   "source": [
    "from selenium import webdriver\n",
    "from selenium.webdriver.common.by import By\n",
    "import os\n",
    "import time\n",
    "from selenium.webdriver.support.ui import WebDriverWait\n",
    "from selenium.webdriver.support import expected_conditions as EC\n",
    "from selenium.webdriver.common.by import By\n",
    "from selenium.common.exceptions import NoSuchElementException, TimeoutException"
   ]
  },
  {
   "cell_type": "code",
   "execution_count": null,
   "metadata": {},
   "outputs": [],
   "source": [
    "os.environ['PATH']+= r'C:/SeleniumDrivers'"
   ]
  },
  {
   "cell_type": "code",
   "execution_count": null,
   "metadata": {},
   "outputs": [],
   "source": [
    "driver=webdriver.Chrome()\n",
    "driver.get('https://www.bigbasket.com/pd/1213604/b-natural-juice-mixed-fruit-merry-3x1-l-carton/?nc=cl-prod-list&t_pos_sec=3&t_pos_item=20&t_s=Mixed+Fruit+-+Rich+In+Fibre%252C+Vitamin+C+%2526+E%252C+100%2525+Indian+Fruit+%2526+0%2525+Concentrate')"
   ]
  },
  {
   "cell_type": "code",
   "execution_count": null,
   "metadata": {},
   "outputs": [],
   "source": [
    "prod_name=driver.find_element(By.CLASS_NAME,'Description___StyledH-sc-82a36a-2')\n",
    "rating=driver.find_element(By.XPATH,'//span[@class=\"Label-sc-15v1nk5-0 gJxZPQ\"]')\n",
    "price=driver.find_element(By.CLASS_NAME,'Description___StyledTd-sc-82a36a-4')\n",
    "print(prod_name.text,rating.text,price.text)\n",
    "\n"
   ]
  },
  {
   "cell_type": "code",
   "execution_count": null,
   "metadata": {},
   "outputs": [],
   "source": [
    "div_element = driver.find_elements(By.CLASS_NAME, 'bullets')\n",
    "\n",
    "\n"
   ]
  },
  {
   "cell_type": "code",
   "execution_count": null,
   "metadata": {},
   "outputs": [],
   "source": [
    "for i in div_element:\n",
    "    print(i.text)"
   ]
  },
  {
   "cell_type": "code",
   "execution_count": null,
   "metadata": {},
   "outputs": [],
   "source": [
    "span_element = driver.find_elements(By.CLASS_NAME, 'Label-sc-15v1nk5-0')"
   ]
  },
  {
   "cell_type": "code",
   "execution_count": null,
   "metadata": {},
   "outputs": [],
   "source": [
    "for i in span_element:\n",
    "    print(i.text)"
   ]
  },
  {
   "cell_type": "code",
   "execution_count": null,
   "metadata": {},
   "outputs": [],
   "source": [
    "try:\n",
    "    prod_name = WebDriverWait(driver, 10).until(EC.element_to_be_clickable((By.CLASS_NAME, 'Description___StyledH-sc-82a36a-2'))).text\n",
    "except (NoSuchElementException, TimeoutException):\n",
    "    prod_name = None\n",
    "\n",
    "try:\n",
    "    price = WebDriverWait(driver, 10).until(EC.element_to_be_clickable((By.CLASS_NAME, 'Description___StyledTd-sc-82a36a-4'))).text\n",
    "except (NoSuchElementException, TimeoutException):\n",
    "    price = None\n",
    "\n",
    "print(prod_name, rating, price)"
   ]
  },
  {
   "cell_type": "code",
   "execution_count": null,
   "metadata": {},
   "outputs": [],
   "source": [
    "<td class=\"Description___StyledTd-sc-82a36a-4 fLZywG\">Price: ₹222.3</td>"
   ]
  }
 ],
 "metadata": {
  "kernelspec": {
   "display_name": "Python 3",
   "language": "python",
   "name": "python3"
  },
  "language_info": {
   "codemirror_mode": {
    "name": "ipython",
    "version": 3
   },
   "file_extension": ".py",
   "mimetype": "text/x-python",
   "name": "python",
   "nbconvert_exporter": "python",
   "pygments_lexer": "ipython3",
   "version": "3.10.10"
  }
 },
 "nbformat": 4,
 "nbformat_minor": 2
}
