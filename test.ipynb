{
 "cells": [
  {
   "cell_type": "code",
   "execution_count": null,
   "metadata": {},
   "outputs": [],
   "source": [
    "from selenium import webdriver\n",
    "from selenium.webdriver.common.by import By\n",
    "import os\n",
    "import time\n",
    "import pandas as pd\n",
    "from selenium.webdriver.support.ui import WebDriverWait\n",
    "from selenium.webdriver.support import expected_conditions as EC\n",
    "from selenium.webdriver.common.by import By\n",
    "from selenium.common.exceptions import NoSuchElementException, TimeoutException\n",
    "from selenium.webdriver.common.action_chains import ActionChains"
   ]
  },
  {
   "cell_type": "code",
   "execution_count": null,
   "metadata": {},
   "outputs": [],
   "source": [
    "os.environ['PATH']+= r'C:/SeleniumDrivers'"
   ]
  },
  {
   "cell_type": "code",
   "execution_count": null,
   "metadata": {},
   "outputs": [],
   "source": [
    "driver=webdriver.Chrome()\n",
    "driver.get('https://www.bigbasket.com/pc/beverages/energy-soft-drinks/?nc=nb')"
   ]
  },
  {
   "cell_type": "code",
   "execution_count": null,
   "metadata": {},
   "outputs": [],
   "source": [
    "elements=driver.find_elements(By.CSS_SELECTOR,'a.h-full')"
   ]
  },
  {
   "cell_type": "code",
   "execution_count": null,
   "metadata": {},
   "outputs": [],
   "source": [
    "for i,j in enumerate(elements):\n",
    "    print(j.text)\n",
    "    print(i)\n",
    "    print(\"........................\")"
   ]
  },
  {
   "cell_type": "code",
   "execution_count": null,
   "metadata": {},
   "outputs": [],
   "source": [
    "data_list = []\n",
    "\n",
    "def individual():\n",
    "    try:\n",
    "        prod_name = WebDriverWait(driver, 10).until(EC.element_to_be_clickable((By.CLASS_NAME, 'Description___StyledH-sc-82a36a-2'))).text\n",
    "    except (NoSuchElementException, TimeoutException):\n",
    "        prod_name = None\n",
    "\n",
    "    try:\n",
    "        price = WebDriverWait(driver, 10).until(EC.element_to_be_clickable((By.CLASS_NAME, 'Description___StyledTd-sc-82a36a-4'))).text\n",
    "    except (NoSuchElementException, TimeoutException):\n",
    "        price = None\n",
    "\n",
    "    try:\n",
    "        ingredients_label = WebDriverWait(driver, 10).until(EC.visibility_of_element_located((By.XPATH, '//span[text()=\"Ingredients\"]')))\n",
    "        ingredients_div = ingredients_label.find_element(By.XPATH, '../following-sibling::div[@class=\"overflow-hidden\"]')\n",
    "        ingredients_text = ingredients_div.text\n",
    "    except (NoSuchElementException, TimeoutException):\n",
    "        ingredients_text = None\n",
    "\n",
    "    # Append the data to the list\n",
    "    print(prod_name, price, ingredients_text)\n",
    "    data_list.append({'Product Name': prod_name, 'Price': price, 'Ingredients': ingredients_text})\n"
   ]
  },
  {
   "cell_type": "code",
   "execution_count": null,
   "metadata": {},
   "outputs": [],
   "source": [
    "from selenium.webdriver.common.by import By\n",
    "from selenium.webdriver.support.ui import WebDriverWait\n",
    "from selenium.webdriver.support import expected_conditions as EC\n",
    "from selenium.common.exceptions import WebDriverException, TimeoutException, StaleElementReferenceException\n",
    "import time\n",
    "\n",
    "i = 0\n",
    "\n",
    "for element in elements:\n",
    "    try:\n",
    "        # Click on the element directly\n",
    "        for retry in range(3):  # Adjust the number of retries as needed\n",
    "            try:\n",
    "                driver.implicitly_wait(5)\n",
    "                element.click()\n",
    "                break\n",
    "            except StaleElementReferenceException:\n",
    "                print(\"StaleElementReferenceException occurred. Retrying...\")\n",
    "                continue\n",
    "\n",
    "        print(\"Clicked on the element\")\n",
    "\n",
    "        # Wait for the specific element to become invisible\n",
    "        WebDriverWait(driver, 30).until(\n",
    "            EC.invisibility_of_element_located((By.XPATH, '//a[@class=\"h-full\"][@href=\"/pd/40276397/indisecrets-assorted-tulsi-infusions-with-4-exotic-flavours-sampler-pack-85-g/?nc=cl-prod-list&amp;t_pos_sec=3&amp;t_pos_item=3&amp;t_s=Assorted+Tulsi+Infusions+With+4+Exotic+Flavours\"]'))\n",
    "        )\n",
    "        print(\"Element became invisible\")\n",
    "\n",
    "        # Wait for a new window to open\n",
    "        WebDriverWait(driver, 30).until(lambda driver: len(driver.window_handles) > 1)\n",
    "        print(\"New window opened\")\n",
    "\n",
    "        # Switch to the new window\n",
    "        driver.switch_to.window(driver.window_handles[1])\n",
    "        print(\"Switched to the new window\")\n",
    "\n",
    "        # Perform actions in the new window (assuming 'individual()' is defined elsewhere)\n",
    "        individual()\n",
    "        WebDriverWait(driver, 30).until(lambda driver: len(driver.window_handles) > 1)  # Wait for any additional pop-ups if needed\n",
    "        time.sleep(2)\n",
    "\n",
    "        # Close the new window\n",
    "        driver.close()\n",
    "        print(\"Closed the new window\")\n",
    "\n",
    "        # Switch back to the original window\n",
    "        driver.switch_to.window(driver.window_handles[0])\n",
    "        print(\"Switched back to the original window\")\n",
    "\n",
    "    except (WebDriverException, TimeoutException, StaleElementReferenceException) as e:\n",
    "        print(f\"Error occurred: {e}\")\n",
    "        continue\n"
   ]
  },
  {
   "cell_type": "code",
   "execution_count": null,
   "metadata": {},
   "outputs": [],
   "source": [
    "# Create the DataFrame after the loop\n",
    "df = pd.DataFrame(data_list)\n",
    "\n",
    "# Print or use the DataFrame as needed\n",
    "print(df)\n"
   ]
  },
  {
   "cell_type": "code",
   "execution_count": null,
   "metadata": {},
   "outputs": [],
   "source": [
    "excel_filename = 'output.xlsx'\n",
    "df.to_excel(excel_filename, index=False)"
   ]
  },
  {
   "cell_type": "code",
   "execution_count": null,
   "metadata": {},
   "outputs": [],
   "source": []
  }
 ],
 "metadata": {
  "kernelspec": {
   "display_name": "Python 3",
   "language": "python",
   "name": "python3"
  },
  "language_info": {
   "codemirror_mode": {
    "name": "ipython",
    "version": 3
   },
   "file_extension": ".py",
   "mimetype": "text/x-python",
   "name": "python",
   "nbconvert_exporter": "python",
   "pygments_lexer": "ipython3",
   "version": "3.10.10"
  }
 },
 "nbformat": 4,
 "nbformat_minor": 2
}
